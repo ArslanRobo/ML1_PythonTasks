{
  "nbformat": 4,
  "nbformat_minor": 0,
  "metadata": {
    "colab": {
      "provenance": []
    },
    "kernelspec": {
      "name": "python3",
      "display_name": "Python 3"
    },
    "language_info": {
      "name": "python"
    }
  },
  "cells": [
    {
      "cell_type": "code",
      "execution_count": 2,
      "metadata": {
        "id": "qg-A8Ex8Hbx7"
      },
      "outputs": [],
      "source": [
        "import pandas as pd\n",
        "import numpy as np"
      ]
    },
    {
      "cell_type": "code",
      "source": [
        "path = \"/content/Trading-features.csv\"\n",
        "Data = pd.read_csv(path)\n",
        "display(Data.info())"
      ],
      "metadata": {
        "colab": {
          "base_uri": "https://localhost:8080/",
          "height": 121
        },
        "id": "PWA0yaEIHqxy",
        "outputId": "afad1294-716e-4927-b2f5-9def0a5aeade"
      },
      "execution_count": 3,
      "outputs": [
        {
          "output_type": "stream",
          "name": "stdout",
          "text": [
            "<class 'pandas.core.frame.DataFrame'>\n",
            "RangeIndex: 10000 entries, 0 to 9999\n",
            "Columns: 164 entries, id to f161\n",
            "dtypes: float64(136), int64(27), object(1)\n",
            "memory usage: 12.5+ MB\n"
          ]
        },
        {
          "output_type": "display_data",
          "data": {
            "text/plain": [
              "None"
            ]
          },
          "metadata": {}
        }
      ]
    },
    {
      "cell_type": "code",
      "source": [
        "display(Data.describe())\n",
        "# Data.info"
      ],
      "metadata": {
        "colab": {
          "base_uri": "https://localhost:8080/",
          "height": 349
        },
        "id": "NpPsbTSLH6aH",
        "outputId": "c1c441e1-fafb-438e-d49b-74fbc105c677"
      },
      "execution_count": 4,
      "outputs": [
        {
          "output_type": "display_data",
          "data": {
            "text/plain": [
              "                 id    last_price            f1           f2            f3  \\\n",
              "count  1.000000e+04  10000.000000  10000.000000  10000.00000  10000.000000   \n",
              "mean   5.546190e+07  42938.580560      0.000414  20149.80990    -40.236010   \n",
              "std    2.890879e+03    205.486455      0.000018   2897.95985      7.212493   \n",
              "min    5.545690e+07  42659.500000      0.000397  15139.00000    -57.800000   \n",
              "25%    5.545940e+07  42747.400000      0.000400  17642.00000    -46.000000   \n",
              "50%    5.546190e+07  42835.850000      0.000408  20146.00000    -38.200000   \n",
              "75%    5.546441e+07  43145.225000      0.000417  22652.25000    -34.500000   \n",
              "max    5.546691e+07  43262.000000      0.000463  25196.00000    -22.100000   \n",
              "\n",
              "                 f4            f5            f6            f7           f8  \\\n",
              "count  10000.000000  10000.000000  10000.000000  10000.000000  10000.00000   \n",
              "mean      42.252370      2.016360      0.523120      1.103560      2.29049   \n",
              "std        9.346334      5.339766     12.883223     17.590602     24.03562   \n",
              "min       15.000000    -27.100000    -51.900000    -59.900000    -75.70000   \n",
              "25%       35.700000      0.000000     -5.600000     -8.300000    -11.00000   \n",
              "50%       40.500000      0.800000      0.000000      0.100000      0.40000   \n",
              "75%       48.500000      3.900000      5.725000      8.800000     12.20000   \n",
              "max      124.200000     85.300000    135.000000    135.700000    179.00000   \n",
              "\n",
              "       ...          f152          f153          f154          f155  \\\n",
              "count  ...  10000.000000  10000.000000  10000.000000  10000.000000   \n",
              "mean   ...    533.201440    -74.606490    533.201440    -74.606490   \n",
              "std    ...    177.929894     46.736091    177.929894     46.736091   \n",
              "min    ...    301.200000   -196.300000    301.200000   -196.300000   \n",
              "25%    ...    359.100000   -104.825000    359.100000   -104.825000   \n",
              "50%    ...    450.800000    -61.200000    450.800000    -61.200000   \n",
              "75%    ...    712.325000    -37.700000    712.325000    -37.700000   \n",
              "max    ...    831.300000     49.400000    831.300000     49.400000   \n",
              "\n",
              "               f156          f157          f158          f159          f160  \\\n",
              "count  10000.000000  10000.000000  10000.000000  10000.000000  10000.000000   \n",
              "mean     -74.606490    533.201440    533.201440    -74.606490    -74.606490   \n",
              "std       46.736091    177.929894    177.929894     46.736091     46.736091   \n",
              "min     -196.300000    301.200000    301.200000   -196.300000   -196.300000   \n",
              "25%     -104.825000    359.100000    359.100000   -104.825000   -104.825000   \n",
              "50%      -61.200000    450.800000    450.800000    -61.200000    -61.200000   \n",
              "75%      -37.700000    712.325000    712.325000    -37.700000    -37.700000   \n",
              "max       49.400000    831.300000    831.300000     49.400000     49.400000   \n",
              "\n",
              "               f161  \n",
              "count  10000.000000  \n",
              "mean     533.201440  \n",
              "std      177.929894  \n",
              "min      301.200000  \n",
              "25%      359.100000  \n",
              "50%      450.800000  \n",
              "75%      712.325000  \n",
              "max      831.300000  \n",
              "\n",
              "[8 rows x 163 columns]"
            ],
            "text/html": [
              "\n",
              "  <div id=\"df-7e25e780-1002-4ed9-8670-42e7f6bdb641\" class=\"colab-df-container\">\n",
              "    <div>\n",
              "<style scoped>\n",
              "    .dataframe tbody tr th:only-of-type {\n",
              "        vertical-align: middle;\n",
              "    }\n",
              "\n",
              "    .dataframe tbody tr th {\n",
              "        vertical-align: top;\n",
              "    }\n",
              "\n",
              "    .dataframe thead th {\n",
              "        text-align: right;\n",
              "    }\n",
              "</style>\n",
              "<table border=\"1\" class=\"dataframe\">\n",
              "  <thead>\n",
              "    <tr style=\"text-align: right;\">\n",
              "      <th></th>\n",
              "      <th>id</th>\n",
              "      <th>last_price</th>\n",
              "      <th>f1</th>\n",
              "      <th>f2</th>\n",
              "      <th>f3</th>\n",
              "      <th>f4</th>\n",
              "      <th>f5</th>\n",
              "      <th>f6</th>\n",
              "      <th>f7</th>\n",
              "      <th>f8</th>\n",
              "      <th>...</th>\n",
              "      <th>f152</th>\n",
              "      <th>f153</th>\n",
              "      <th>f154</th>\n",
              "      <th>f155</th>\n",
              "      <th>f156</th>\n",
              "      <th>f157</th>\n",
              "      <th>f158</th>\n",
              "      <th>f159</th>\n",
              "      <th>f160</th>\n",
              "      <th>f161</th>\n",
              "    </tr>\n",
              "  </thead>\n",
              "  <tbody>\n",
              "    <tr>\n",
              "      <th>count</th>\n",
              "      <td>1.000000e+04</td>\n",
              "      <td>10000.000000</td>\n",
              "      <td>10000.000000</td>\n",
              "      <td>10000.00000</td>\n",
              "      <td>10000.000000</td>\n",
              "      <td>10000.000000</td>\n",
              "      <td>10000.000000</td>\n",
              "      <td>10000.000000</td>\n",
              "      <td>10000.000000</td>\n",
              "      <td>10000.00000</td>\n",
              "      <td>...</td>\n",
              "      <td>10000.000000</td>\n",
              "      <td>10000.000000</td>\n",
              "      <td>10000.000000</td>\n",
              "      <td>10000.000000</td>\n",
              "      <td>10000.000000</td>\n",
              "      <td>10000.000000</td>\n",
              "      <td>10000.000000</td>\n",
              "      <td>10000.000000</td>\n",
              "      <td>10000.000000</td>\n",
              "      <td>10000.000000</td>\n",
              "    </tr>\n",
              "    <tr>\n",
              "      <th>mean</th>\n",
              "      <td>5.546190e+07</td>\n",
              "      <td>42938.580560</td>\n",
              "      <td>0.000414</td>\n",
              "      <td>20149.80990</td>\n",
              "      <td>-40.236010</td>\n",
              "      <td>42.252370</td>\n",
              "      <td>2.016360</td>\n",
              "      <td>0.523120</td>\n",
              "      <td>1.103560</td>\n",
              "      <td>2.29049</td>\n",
              "      <td>...</td>\n",
              "      <td>533.201440</td>\n",
              "      <td>-74.606490</td>\n",
              "      <td>533.201440</td>\n",
              "      <td>-74.606490</td>\n",
              "      <td>-74.606490</td>\n",
              "      <td>533.201440</td>\n",
              "      <td>533.201440</td>\n",
              "      <td>-74.606490</td>\n",
              "      <td>-74.606490</td>\n",
              "      <td>533.201440</td>\n",
              "    </tr>\n",
              "    <tr>\n",
              "      <th>std</th>\n",
              "      <td>2.890879e+03</td>\n",
              "      <td>205.486455</td>\n",
              "      <td>0.000018</td>\n",
              "      <td>2897.95985</td>\n",
              "      <td>7.212493</td>\n",
              "      <td>9.346334</td>\n",
              "      <td>5.339766</td>\n",
              "      <td>12.883223</td>\n",
              "      <td>17.590602</td>\n",
              "      <td>24.03562</td>\n",
              "      <td>...</td>\n",
              "      <td>177.929894</td>\n",
              "      <td>46.736091</td>\n",
              "      <td>177.929894</td>\n",
              "      <td>46.736091</td>\n",
              "      <td>46.736091</td>\n",
              "      <td>177.929894</td>\n",
              "      <td>177.929894</td>\n",
              "      <td>46.736091</td>\n",
              "      <td>46.736091</td>\n",
              "      <td>177.929894</td>\n",
              "    </tr>\n",
              "    <tr>\n",
              "      <th>min</th>\n",
              "      <td>5.545690e+07</td>\n",
              "      <td>42659.500000</td>\n",
              "      <td>0.000397</td>\n",
              "      <td>15139.00000</td>\n",
              "      <td>-57.800000</td>\n",
              "      <td>15.000000</td>\n",
              "      <td>-27.100000</td>\n",
              "      <td>-51.900000</td>\n",
              "      <td>-59.900000</td>\n",
              "      <td>-75.70000</td>\n",
              "      <td>...</td>\n",
              "      <td>301.200000</td>\n",
              "      <td>-196.300000</td>\n",
              "      <td>301.200000</td>\n",
              "      <td>-196.300000</td>\n",
              "      <td>-196.300000</td>\n",
              "      <td>301.200000</td>\n",
              "      <td>301.200000</td>\n",
              "      <td>-196.300000</td>\n",
              "      <td>-196.300000</td>\n",
              "      <td>301.200000</td>\n",
              "    </tr>\n",
              "    <tr>\n",
              "      <th>25%</th>\n",
              "      <td>5.545940e+07</td>\n",
              "      <td>42747.400000</td>\n",
              "      <td>0.000400</td>\n",
              "      <td>17642.00000</td>\n",
              "      <td>-46.000000</td>\n",
              "      <td>35.700000</td>\n",
              "      <td>0.000000</td>\n",
              "      <td>-5.600000</td>\n",
              "      <td>-8.300000</td>\n",
              "      <td>-11.00000</td>\n",
              "      <td>...</td>\n",
              "      <td>359.100000</td>\n",
              "      <td>-104.825000</td>\n",
              "      <td>359.100000</td>\n",
              "      <td>-104.825000</td>\n",
              "      <td>-104.825000</td>\n",
              "      <td>359.100000</td>\n",
              "      <td>359.100000</td>\n",
              "      <td>-104.825000</td>\n",
              "      <td>-104.825000</td>\n",
              "      <td>359.100000</td>\n",
              "    </tr>\n",
              "    <tr>\n",
              "      <th>50%</th>\n",
              "      <td>5.546190e+07</td>\n",
              "      <td>42835.850000</td>\n",
              "      <td>0.000408</td>\n",
              "      <td>20146.00000</td>\n",
              "      <td>-38.200000</td>\n",
              "      <td>40.500000</td>\n",
              "      <td>0.800000</td>\n",
              "      <td>0.000000</td>\n",
              "      <td>0.100000</td>\n",
              "      <td>0.40000</td>\n",
              "      <td>...</td>\n",
              "      <td>450.800000</td>\n",
              "      <td>-61.200000</td>\n",
              "      <td>450.800000</td>\n",
              "      <td>-61.200000</td>\n",
              "      <td>-61.200000</td>\n",
              "      <td>450.800000</td>\n",
              "      <td>450.800000</td>\n",
              "      <td>-61.200000</td>\n",
              "      <td>-61.200000</td>\n",
              "      <td>450.800000</td>\n",
              "    </tr>\n",
              "    <tr>\n",
              "      <th>75%</th>\n",
              "      <td>5.546441e+07</td>\n",
              "      <td>43145.225000</td>\n",
              "      <td>0.000417</td>\n",
              "      <td>22652.25000</td>\n",
              "      <td>-34.500000</td>\n",
              "      <td>48.500000</td>\n",
              "      <td>3.900000</td>\n",
              "      <td>5.725000</td>\n",
              "      <td>8.800000</td>\n",
              "      <td>12.20000</td>\n",
              "      <td>...</td>\n",
              "      <td>712.325000</td>\n",
              "      <td>-37.700000</td>\n",
              "      <td>712.325000</td>\n",
              "      <td>-37.700000</td>\n",
              "      <td>-37.700000</td>\n",
              "      <td>712.325000</td>\n",
              "      <td>712.325000</td>\n",
              "      <td>-37.700000</td>\n",
              "      <td>-37.700000</td>\n",
              "      <td>712.325000</td>\n",
              "    </tr>\n",
              "    <tr>\n",
              "      <th>max</th>\n",
              "      <td>5.546691e+07</td>\n",
              "      <td>43262.000000</td>\n",
              "      <td>0.000463</td>\n",
              "      <td>25196.00000</td>\n",
              "      <td>-22.100000</td>\n",
              "      <td>124.200000</td>\n",
              "      <td>85.300000</td>\n",
              "      <td>135.000000</td>\n",
              "      <td>135.700000</td>\n",
              "      <td>179.00000</td>\n",
              "      <td>...</td>\n",
              "      <td>831.300000</td>\n",
              "      <td>49.400000</td>\n",
              "      <td>831.300000</td>\n",
              "      <td>49.400000</td>\n",
              "      <td>49.400000</td>\n",
              "      <td>831.300000</td>\n",
              "      <td>831.300000</td>\n",
              "      <td>49.400000</td>\n",
              "      <td>49.400000</td>\n",
              "      <td>831.300000</td>\n",
              "    </tr>\n",
              "  </tbody>\n",
              "</table>\n",
              "<p>8 rows × 163 columns</p>\n",
              "</div>\n",
              "    <div class=\"colab-df-buttons\">\n",
              "\n",
              "  <div class=\"colab-df-container\">\n",
              "    <button class=\"colab-df-convert\" onclick=\"convertToInteractive('df-7e25e780-1002-4ed9-8670-42e7f6bdb641')\"\n",
              "            title=\"Convert this dataframe to an interactive table.\"\n",
              "            style=\"display:none;\">\n",
              "\n",
              "  <svg xmlns=\"http://www.w3.org/2000/svg\" height=\"24px\" viewBox=\"0 -960 960 960\">\n",
              "    <path d=\"M120-120v-720h720v720H120Zm60-500h600v-160H180v160Zm220 220h160v-160H400v160Zm0 220h160v-160H400v160ZM180-400h160v-160H180v160Zm440 0h160v-160H620v160ZM180-180h160v-160H180v160Zm440 0h160v-160H620v160Z\"/>\n",
              "  </svg>\n",
              "    </button>\n",
              "\n",
              "  <style>\n",
              "    .colab-df-container {\n",
              "      display:flex;\n",
              "      gap: 12px;\n",
              "    }\n",
              "\n",
              "    .colab-df-convert {\n",
              "      background-color: #E8F0FE;\n",
              "      border: none;\n",
              "      border-radius: 50%;\n",
              "      cursor: pointer;\n",
              "      display: none;\n",
              "      fill: #1967D2;\n",
              "      height: 32px;\n",
              "      padding: 0 0 0 0;\n",
              "      width: 32px;\n",
              "    }\n",
              "\n",
              "    .colab-df-convert:hover {\n",
              "      background-color: #E2EBFA;\n",
              "      box-shadow: 0px 1px 2px rgba(60, 64, 67, 0.3), 0px 1px 3px 1px rgba(60, 64, 67, 0.15);\n",
              "      fill: #174EA6;\n",
              "    }\n",
              "\n",
              "    .colab-df-buttons div {\n",
              "      margin-bottom: 4px;\n",
              "    }\n",
              "\n",
              "    [theme=dark] .colab-df-convert {\n",
              "      background-color: #3B4455;\n",
              "      fill: #D2E3FC;\n",
              "    }\n",
              "\n",
              "    [theme=dark] .colab-df-convert:hover {\n",
              "      background-color: #434B5C;\n",
              "      box-shadow: 0px 1px 3px 1px rgba(0, 0, 0, 0.15);\n",
              "      filter: drop-shadow(0px 1px 2px rgba(0, 0, 0, 0.3));\n",
              "      fill: #FFFFFF;\n",
              "    }\n",
              "  </style>\n",
              "\n",
              "    <script>\n",
              "      const buttonEl =\n",
              "        document.querySelector('#df-7e25e780-1002-4ed9-8670-42e7f6bdb641 button.colab-df-convert');\n",
              "      buttonEl.style.display =\n",
              "        google.colab.kernel.accessAllowed ? 'block' : 'none';\n",
              "\n",
              "      async function convertToInteractive(key) {\n",
              "        const element = document.querySelector('#df-7e25e780-1002-4ed9-8670-42e7f6bdb641');\n",
              "        const dataTable =\n",
              "          await google.colab.kernel.invokeFunction('convertToInteractive',\n",
              "                                                    [key], {});\n",
              "        if (!dataTable) return;\n",
              "\n",
              "        const docLinkHtml = 'Like what you see? Visit the ' +\n",
              "          '<a target=\"_blank\" href=https://colab.research.google.com/notebooks/data_table.ipynb>data table notebook</a>'\n",
              "          + ' to learn more about interactive tables.';\n",
              "        element.innerHTML = '';\n",
              "        dataTable['output_type'] = 'display_data';\n",
              "        await google.colab.output.renderOutput(dataTable, element);\n",
              "        const docLink = document.createElement('div');\n",
              "        docLink.innerHTML = docLinkHtml;\n",
              "        element.appendChild(docLink);\n",
              "      }\n",
              "    </script>\n",
              "  </div>\n",
              "\n",
              "\n",
              "<div id=\"df-c07308c3-97eb-4f41-9570-38d53298e2fa\">\n",
              "  <button class=\"colab-df-quickchart\" onclick=\"quickchart('df-c07308c3-97eb-4f41-9570-38d53298e2fa')\"\n",
              "            title=\"Suggest charts\"\n",
              "            style=\"display:none;\">\n",
              "\n",
              "<svg xmlns=\"http://www.w3.org/2000/svg\" height=\"24px\"viewBox=\"0 0 24 24\"\n",
              "     width=\"24px\">\n",
              "    <g>\n",
              "        <path d=\"M19 3H5c-1.1 0-2 .9-2 2v14c0 1.1.9 2 2 2h14c1.1 0 2-.9 2-2V5c0-1.1-.9-2-2-2zM9 17H7v-7h2v7zm4 0h-2V7h2v10zm4 0h-2v-4h2v4z\"/>\n",
              "    </g>\n",
              "</svg>\n",
              "  </button>\n",
              "\n",
              "<style>\n",
              "  .colab-df-quickchart {\n",
              "      --bg-color: #E8F0FE;\n",
              "      --fill-color: #1967D2;\n",
              "      --hover-bg-color: #E2EBFA;\n",
              "      --hover-fill-color: #174EA6;\n",
              "      --disabled-fill-color: #AAA;\n",
              "      --disabled-bg-color: #DDD;\n",
              "  }\n",
              "\n",
              "  [theme=dark] .colab-df-quickchart {\n",
              "      --bg-color: #3B4455;\n",
              "      --fill-color: #D2E3FC;\n",
              "      --hover-bg-color: #434B5C;\n",
              "      --hover-fill-color: #FFFFFF;\n",
              "      --disabled-bg-color: #3B4455;\n",
              "      --disabled-fill-color: #666;\n",
              "  }\n",
              "\n",
              "  .colab-df-quickchart {\n",
              "    background-color: var(--bg-color);\n",
              "    border: none;\n",
              "    border-radius: 50%;\n",
              "    cursor: pointer;\n",
              "    display: none;\n",
              "    fill: var(--fill-color);\n",
              "    height: 32px;\n",
              "    padding: 0;\n",
              "    width: 32px;\n",
              "  }\n",
              "\n",
              "  .colab-df-quickchart:hover {\n",
              "    background-color: var(--hover-bg-color);\n",
              "    box-shadow: 0 1px 2px rgba(60, 64, 67, 0.3), 0 1px 3px 1px rgba(60, 64, 67, 0.15);\n",
              "    fill: var(--button-hover-fill-color);\n",
              "  }\n",
              "\n",
              "  .colab-df-quickchart-complete:disabled,\n",
              "  .colab-df-quickchart-complete:disabled:hover {\n",
              "    background-color: var(--disabled-bg-color);\n",
              "    fill: var(--disabled-fill-color);\n",
              "    box-shadow: none;\n",
              "  }\n",
              "\n",
              "  .colab-df-spinner {\n",
              "    border: 2px solid var(--fill-color);\n",
              "    border-color: transparent;\n",
              "    border-bottom-color: var(--fill-color);\n",
              "    animation:\n",
              "      spin 1s steps(1) infinite;\n",
              "  }\n",
              "\n",
              "  @keyframes spin {\n",
              "    0% {\n",
              "      border-color: transparent;\n",
              "      border-bottom-color: var(--fill-color);\n",
              "      border-left-color: var(--fill-color);\n",
              "    }\n",
              "    20% {\n",
              "      border-color: transparent;\n",
              "      border-left-color: var(--fill-color);\n",
              "      border-top-color: var(--fill-color);\n",
              "    }\n",
              "    30% {\n",
              "      border-color: transparent;\n",
              "      border-left-color: var(--fill-color);\n",
              "      border-top-color: var(--fill-color);\n",
              "      border-right-color: var(--fill-color);\n",
              "    }\n",
              "    40% {\n",
              "      border-color: transparent;\n",
              "      border-right-color: var(--fill-color);\n",
              "      border-top-color: var(--fill-color);\n",
              "    }\n",
              "    60% {\n",
              "      border-color: transparent;\n",
              "      border-right-color: var(--fill-color);\n",
              "    }\n",
              "    80% {\n",
              "      border-color: transparent;\n",
              "      border-right-color: var(--fill-color);\n",
              "      border-bottom-color: var(--fill-color);\n",
              "    }\n",
              "    90% {\n",
              "      border-color: transparent;\n",
              "      border-bottom-color: var(--fill-color);\n",
              "    }\n",
              "  }\n",
              "</style>\n",
              "\n",
              "  <script>\n",
              "    async function quickchart(key) {\n",
              "      const quickchartButtonEl =\n",
              "        document.querySelector('#' + key + ' button');\n",
              "      quickchartButtonEl.disabled = true;  // To prevent multiple clicks.\n",
              "      quickchartButtonEl.classList.add('colab-df-spinner');\n",
              "      try {\n",
              "        const charts = await google.colab.kernel.invokeFunction(\n",
              "            'suggestCharts', [key], {});\n",
              "      } catch (error) {\n",
              "        console.error('Error during call to suggestCharts:', error);\n",
              "      }\n",
              "      quickchartButtonEl.classList.remove('colab-df-spinner');\n",
              "      quickchartButtonEl.classList.add('colab-df-quickchart-complete');\n",
              "    }\n",
              "    (() => {\n",
              "      let quickchartButtonEl =\n",
              "        document.querySelector('#df-c07308c3-97eb-4f41-9570-38d53298e2fa button');\n",
              "      quickchartButtonEl.style.display =\n",
              "        google.colab.kernel.accessAllowed ? 'block' : 'none';\n",
              "    })();\n",
              "  </script>\n",
              "</div>\n",
              "\n",
              "    </div>\n",
              "  </div>\n"
            ]
          },
          "metadata": {}
        }
      ]
    },
    {
      "cell_type": "code",
      "source": [],
      "metadata": {
        "id": "180wrhBoHPwv"
      },
      "execution_count": 4,
      "outputs": []
    },
    {
      "cell_type": "code",
      "source": [
        "print(Data.shape)\n",
        "print(Data.columns)"
      ],
      "metadata": {
        "colab": {
          "base_uri": "https://localhost:8080/"
        },
        "id": "NIjrh59tK_1u",
        "outputId": "d291f5b2-5d57-45a0-83be-324540f12015"
      },
      "execution_count": 5,
      "outputs": [
        {
          "output_type": "stream",
          "name": "stdout",
          "text": [
            "(10000, 164)\n",
            "Index(['id', 'last_price', 'created_at', 'f1', 'f2', 'f3', 'f4', 'f5', 'f6',\n",
            "       'f7',\n",
            "       ...\n",
            "       'f152', 'f153', 'f154', 'f155', 'f156', 'f157', 'f158', 'f159', 'f160',\n",
            "       'f161'],\n",
            "      dtype='object', length=164)\n"
          ]
        }
      ]
    },
    {
      "cell_type": "code",
      "source": [
        "from copy import deepcopy\n",
        "# # Getting usefull features from time\n",
        "Data['created_at'] = pd.to_datetime(Data['created_at'])\n",
        "date_forplotting = deepcopy(Data['created_at'])\n",
        "Data['hour'] = Data['created_at'].dt.hour\n",
        "Data['minute'] = Data['created_at'].dt.minute\n",
        "Data['second'] = Data['created_at'].dt.second\n",
        "\n",
        "Data.drop('created_at', axis=1, inplace=True)\n",
        "print(Data.shape)\n",
        "print(Data.columns)"
      ],
      "metadata": {
        "colab": {
          "base_uri": "https://localhost:8080/"
        },
        "id": "S7liZM9cLtQM",
        "outputId": "d24c6f81-07d4-44fb-f58e-67bc06584f07"
      },
      "execution_count": 6,
      "outputs": [
        {
          "output_type": "stream",
          "name": "stdout",
          "text": [
            "(10000, 166)\n",
            "Index(['id', 'last_price', 'f1', 'f2', 'f3', 'f4', 'f5', 'f6', 'f7', 'f8',\n",
            "       ...\n",
            "       'f155', 'f156', 'f157', 'f158', 'f159', 'f160', 'f161', 'hour',\n",
            "       'minute', 'second'],\n",
            "      dtype='object', length=166)\n"
          ]
        }
      ]
    },
    {
      "cell_type": "code",
      "source": [
        "#Removing features with zero values\n",
        "zero= Data.columns[Data.sum(axis=0) == 0]\n",
        "print(zero)\n",
        "Data.drop(zero, axis=1, inplace=True)\n",
        "print(Data.shape)\n",
        "print(Data.columns)"
      ],
      "metadata": {
        "colab": {
          "base_uri": "https://localhost:8080/"
        },
        "id": "xe4xyDpSSMjE",
        "outputId": "b10c243b-1cd5-420f-e864-72bcec11af9c"
      },
      "execution_count": 7,
      "outputs": [
        {
          "output_type": "stream",
          "name": "stdout",
          "text": [
            "Index(['f24', 'f47', 'f50', 'f61', 'f63', 'f65', 'f67', 'f69', 'f71', 'f73',\n",
            "       'f75'],\n",
            "      dtype='object')\n",
            "(10000, 155)\n",
            "Index(['id', 'last_price', 'f1', 'f2', 'f3', 'f4', 'f5', 'f6', 'f7', 'f8',\n",
            "       ...\n",
            "       'f155', 'f156', 'f157', 'f158', 'f159', 'f160', 'f161', 'hour',\n",
            "       'minute', 'second'],\n",
            "      dtype='object', length=155)\n"
          ]
        }
      ]
    },
    {
      "cell_type": "code",
      "source": [
        "import pandas as pd\n",
        "from sklearn.impute import SimpleImputer\n",
        "\n",
        "missing_values = Data.isna().sum()\n",
        "col = missing_values[missing_values > 0].index.tolist()\n",
        "print(col)\n",
        "\n",
        "imputer = SimpleImputer(strategy='mean')\n",
        "for i in col:\n",
        "  Data[i] = imputer.fit_transform(Data[[i]])\n"
      ],
      "metadata": {
        "colab": {
          "base_uri": "https://localhost:8080/"
        },
        "id": "kqa2XWFKSqcA",
        "outputId": "38ac6f42-044f-4e2d-eddc-9c61298dc3cd"
      },
      "execution_count": 8,
      "outputs": [
        {
          "output_type": "stream",
          "name": "stdout",
          "text": [
            "['f48', 'f49', 'f62', 'f64', 'f66', 'f68', 'f70', 'f72', 'f74', 'f76', 'f101', 'f106', 'f108', 'f110', 'f121']\n"
          ]
        }
      ]
    },
    {
      "cell_type": "code",
      "source": [
        "#Check if there are any empty value left\n",
        "missing_values = Data.isna().sum()\n",
        "col = missing_values[missing_values > 0].index.tolist()\n",
        "print(col)\n",
        "print(Data.shape)\n",
        "print(Data.columns)"
      ],
      "metadata": {
        "colab": {
          "base_uri": "https://localhost:8080/"
        },
        "id": "5ER0mbAuXXwe",
        "outputId": "7b310b3d-f2c8-4676-ea94-6990f3328e57"
      },
      "execution_count": 9,
      "outputs": [
        {
          "output_type": "stream",
          "name": "stdout",
          "text": [
            "[]\n",
            "(10000, 155)\n",
            "Index(['id', 'last_price', 'f1', 'f2', 'f3', 'f4', 'f5', 'f6', 'f7', 'f8',\n",
            "       ...\n",
            "       'f155', 'f156', 'f157', 'f158', 'f159', 'f160', 'f161', 'hour',\n",
            "       'minute', 'second'],\n",
            "      dtype='object', length=155)\n"
          ]
        }
      ]
    },
    {
      "cell_type": "code",
      "source": [
        "import matplotlib.pyplot as plt\n",
        "\n",
        "# Assuming df is your DataFrame and it has columns 'x' and 'y'\n",
        "plt.plot(date_forplotting, Data['last_price'])\n",
        "plt.title('Prices trend over time')\n",
        "plt.xlabel('Time')  # Replace with your x-axis label\n",
        "plt.ylabel('Prices')  # Replace with your y-axis label\n",
        "plt.show()\n"
      ],
      "metadata": {
        "colab": {
          "base_uri": "https://localhost:8080/",
          "height": 472
        },
        "id": "Y6SCscS5Z9jR",
        "outputId": "56cc48a6-a67d-460d-a83d-dd089fef1b92"
      },
      "execution_count": 10,
      "outputs": [
        {
          "output_type": "display_data",
          "data": {
            "text/plain": [
              "<Figure size 640x480 with 1 Axes>"
            ],
            "image/png": "[encoded data removed]"
          },
          "metadata": {}
        }
      ]
    },
    {
      "cell_type": "code",
      "source": [
        "Data['shifted_column'] = Data['last_price'].shift(-1)\n",
        "Data['positive_shift'] = (Data['last_price'] > Data['shifted_column']).astype(int)\n",
        "# Drop the temporary shifted column\n",
        "Data.drop('shifted_column', axis=1, inplace=True)"
      ],
      "metadata": {
        "id": "vKLj0d31NfHw"
      },
      "execution_count": 11,
      "outputs": []
    },
    {
      "cell_type": "code",
      "source": [
        "# Y = Data['last_price']\n",
        "# X = Data.drop('last_price', axis=1, inplace=False)\n",
        "# # X_train, X_test, y_train, y_test = train_test_split(X, y, test_size=0.2)"
      ],
      "metadata": {
        "id": "xNsxSPTNg2MP"
      },
      "execution_count": 12,
      "outputs": []
    },
    {
      "cell_type": "code",
      "source": [
        "# print(X.shape)\n",
        "# print(Y.shape)"
      ],
      "metadata": {
        "id": "Yl256RELiBl9"
      },
      "execution_count": 13,
      "outputs": []
    },
    {
      "cell_type": "code",
      "source": [
        "# # Using Linear Regression model for training\n",
        "# from sklearn.linear_model import LinearRegression\n",
        "# from sklearn.model_selection import train_test_split\n",
        "\n",
        "\n",
        "# X_train, X_test, y_train, y_test = train_test_split(X, Y, test_size=0.2)\n",
        "# model = LinearRegression()\n",
        "# model.fit(X_train, y_train)\n",
        "# y_pred = model.predict(X_test)\n",
        "# test_score = model.score(X_test, y_test)\n",
        "# train_score = model.score(X_train, y_train)\n",
        "# print(f\"Training accuracy : {train_score*100:.2f}%\\nTesting accuracy : {test_score*100:.2f}%\")\n"
      ],
      "metadata": {
        "id": "bNp8Rn4RgZXj"
      },
      "execution_count": 14,
      "outputs": []
    },
    {
      "cell_type": "code",
      "source": [
        "# from sklearn.svm import SVR\n",
        "# from sklearn.preprocessing import StandardScaler\n",
        "\n",
        "# scaler = StandardScaler()\n",
        "# X_train_scaled = scaler.fit_transform(X_train)\n",
        "# X_test_scaled = scaler.transform(X_test)\n",
        "\n",
        "# svr_model = SVR()\n",
        "\n",
        "# svr_model.fit(X_train_scaled, y_train)\n",
        "# y_pred2 = svr_model.predict(X_test_scaled)\n",
        "# test_score = svr_model.score(X_test_scaled, y_test)\n",
        "# train_score = svr_model.score(X_train_scaled, y_train)\n",
        "# print(f\"Training accuracy : {train_score*100:.2f}%\\nTesting accuracy : {test_score*100:.2f}%\")"
      ],
      "metadata": {
        "id": "83vXoxgphNPm"
      },
      "execution_count": 15,
      "outputs": []
    },
    {
      "cell_type": "code",
      "source": [
        "# # Decision Tree Regression\n",
        "# from sklearn.tree import DecisionTreeRegressor\n",
        "\n",
        "# from sklearn.preprocessing import StandardScaler\n",
        "\n",
        "# scaler = StandardScaler()\n",
        "# X_train_scaled = scaler.fit_transform(X_train)\n",
        "# X_test_scaled = scaler.transform(X_test)\n",
        "\n",
        "# dtr_model = DecisionTreeRegressor()\n",
        "\n",
        "# dtr_model.fit(X_train_scaled, y_train)\n",
        "# y_pred2 = dtr_model.predict(X_test_scaled)\n",
        "# test_score = dtr_model.score(X_test_scaled, y_test)\n",
        "# train_score = dtr_model.score(X_train_scaled, y_train)\n",
        "# print(f\"Training accuracy : {train_score*100:.2f}%\\nTesting accuracy : {test_score*100:.2f}%\")"
      ],
      "metadata": {
        "id": "V2pq6Na_PRWU"
      },
      "execution_count": 16,
      "outputs": []
    },
    {
      "cell_type": "code",
      "source": [
        "from sklearn.linear_model import LogisticRegression\n",
        "from sklearn.model_selection import train_test_split\n",
        "\n",
        "Y = Data['positive_shift']\n",
        "X = Data.drop('positive_shift', axis=1, inplace=False)\n",
        "# X_train, X_test, y_train, y_test = train_test_split(X, Y, test_size=0.2)\n",
        "\n",
        "X_train, X_test, y_train, y_test = train_test_split(X, Y, test_size=0.2,random_state = 44)\n",
        "\n",
        "scaler = StandardScaler()\n",
        "X_train_scaled = scaler.fit_transform(X_train)\n",
        "X_test_scaled = scaler.transform(X_test)\n",
        "\n",
        "model = LogisticRegression(max_iter=1000)\n",
        "model.fit(X_train_scaled, y_train)\n",
        "y_pred = model.predict(X_test_scaled)\n",
        "test_score = model.score(X_test_scaled, y_test)\n",
        "train_score = model.score(X_train_scaled, y_train)\n",
        "print(f\"Training accuracy : {train_score*100:.2f}%\\nTesting accuracy : {test_score*100:.2f}%\")\n"
      ],
      "metadata": {
        "colab": {
          "base_uri": "https://localhost:8080/"
        },
        "id": "IS2yKUELQEYb",
        "outputId": "47c0ea07-b16f-4e45-8b24-47ebe594ddc7"
      },
      "execution_count": 39,
      "outputs": [
        {
          "output_type": "stream",
          "name": "stdout",
          "text": [
            "Training accuracy : 70.56%\n",
            "Testing accuracy : 72.50%\n"
          ]
        }
      ]
    },
    {
      "cell_type": "code",
      "source": [
        "from sklearn.svm import SVC\n",
        "from sklearn.preprocessing import StandardScaler\n",
        "\n",
        "scaler = StandardScaler()\n",
        "X_train_scaled = scaler.fit_transform(X_train)\n",
        "X_test_scaled = scaler.transform(X_test)\n",
        "\n",
        "svr_model = SVC()\n",
        "\n",
        "svr_model.fit(X_train_scaled, y_train)\n",
        "y_pred2 = svr_model.predict(X_test_scaled)\n",
        "test_score = svr_model.score(X_test_scaled, y_test)\n",
        "train_score = svr_model.score(X_train_scaled, y_train)\n",
        "print(f\"Training accuracy : {train_score*100:.2f}%\\nTesting accuracy : {test_score*100:.2f}%\")"
      ],
      "metadata": {
        "colab": {
          "base_uri": "https://localhost:8080/"
        },
        "id": "3cab4HxVWcyL",
        "outputId": "1dfea770-fbff-41e6-e490-51f2539c09ab"
      },
      "execution_count": 40,
      "outputs": [
        {
          "output_type": "stream",
          "name": "stdout",
          "text": [
            "Training accuracy : 70.69%\n",
            "Testing accuracy : 71.80%\n"
          ]
        }
      ]
    },
    {
      "cell_type": "code",
      "source": [
        "from sklearn.tree import DecisionTreeClassifier\n",
        "from sklearn.preprocessing import StandardScaler\n",
        "\n",
        "scaler = StandardScaler()\n",
        "X_train_scaled = scaler.fit_transform(X_train)\n",
        "X_test_scaled = scaler.transform(X_test)\n",
        "\n",
        "dtr_model = DecisionTreeClassifier()\n",
        "\n",
        "dtr_model.fit(X_train_scaled, y_train)\n",
        "y_pred2 = dtr_model.predict(X_test_scaled)\n",
        "test_score = dtr_model.score(X_test_scaled, y_test)\n",
        "train_score = dtr_model.score(X_train_scaled, y_train)\n",
        "print(f\"Training accuracy : {train_score*100:.2f}%\\nTesting accuracy : {test_score*100:.2f}%\")"
      ],
      "metadata": {
        "colab": {
          "base_uri": "https://localhost:8080/"
        },
        "id": "C9huvVKBSZ-R",
        "outputId": "cf76e9f2-3629-4a0a-d131-49665be46e34"
      },
      "execution_count": 19,
      "outputs": [
        {
          "output_type": "stream",
          "name": "stdout",
          "text": [
            "Training accuracy : 100.00%\n",
            "Testing accuracy : 59.55%\n"
          ]
        }
      ]
    },
    {
      "cell_type": "code",
      "source": [
        "# from sklearn.model_selection import train_test_split, GridSearchCV, cross_val_score\n",
        "# from sklearn.metrics import classification_report, confusion_matrix\n",
        "\n",
        "# # Splitting the dataset into training and testing sets\n",
        "# X_train, X_test, y_train, y_test = train_test_split(X, Y, test_size=0.2)\n",
        "\n",
        "# scaler = StandardScaler()\n",
        "# X_train_scaled = scaler.fit_transform(X_train)\n",
        "# X_test_scaled = scaler.transform(X_test)\n",
        "\n",
        "# logreg = LogisticRegression(max_iter=10000)\n",
        "\n",
        "# param_grid = {\n",
        "#     'C': [0.001, 0.01, 0.1, 1, 10, 100],\n",
        "#     'penalty': ['l1', 'l2'],\n",
        "#     'solver': ['liblinear']  # 'liblinear' works well with L1 & L2\n",
        "# }\n",
        "\n",
        "# # Grid search for hyperparameter tuning\n",
        "# grid_search = GridSearchCV(logreg, param_grid, cv=5, scoring='accuracy')\n",
        "# grid_search.fit(X_train_scaled, y_train)\n",
        "\n",
        "# # Best parameters and best score\n",
        "# print(\"Best Parameters: \", grid_search.best_params_)\n",
        "# print(\"Best Score: \", grid_search.best_score_)\n",
        "\n",
        "# # Evaluate on Test Set\n",
        "# best_logreg = grid_search.best_estimator_\n",
        "# y_pred = best_logreg.predict(X_test_scaled)\n",
        "\n",
        "# # Classification report and confusion matrix\n",
        "# print(\"Classification Report:\\n\", classification_report(y_test, y_pred))\n",
        "# print(\"Confusion Matrix:\\n\", confusion_matrix(y_test, y_pred))\n",
        "\n",
        "# # Cross-validation for a more reliable assessment\n",
        "# cv_scores = cross_val_score(best_logreg, X_train_scaled, y_train, cv=5, scoring='accuracy')\n",
        "# print(\"Cross-Validation Accuracy Scores: \", cv_scores)\n"
      ],
      "metadata": {
        "id": "ybl6wTnTXFH5"
      },
      "execution_count": 20,
      "outputs": []
    }
  ]
}