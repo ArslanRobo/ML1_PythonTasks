{
 "cells": [
  {
   "cell_type": "code",
   "execution_count": 1,
   "metadata": {},
   "outputs": [],
   "source": [
    "import numpy as np\n"
   ]
  },
  {
   "cell_type": "code",
   "execution_count": 2,
   "metadata": {},
   "outputs": [
    {
     "name": "stdout",
     "output_type": "stream",
     "text": [
      "78\n",
      "[78.  0.  0.  0.  0.  0.  0.  0.  0.  0.]\n",
      "Index is ----- 1\n",
      "23\n",
      "[78. 23.  0.  0.  0.  0.  0.  0.  0.  0.]\n",
      "Index is ----- 2\n",
      "[23.  0.  0.  0.  0.  0.  0.  0.  0.  0.]\n"
     ]
    }
   ],
   "source": [
    "stack = np.zeros(10)\n",
    "index = 0\n",
    "for i in range(50):\n",
    "    options = input(\"Enter Option 1.pop, 2.push, 3.exit: \")\n",
    "    if options == \"push\":\n",
    "        if index < 10:\n",
    "            number = int(input(\"Enter number that you want to add in stack: \"))\n",
    "            print(number)\n",
    "            stack[index] = number\n",
    "            print(stack)\n",
    "            index += 1\n",
    "            print(\"Index is -----\", index)\n",
    "        else:\n",
    "            index >= 10\n",
    "            print(\"Stack is full\")\n",
    "    if options == \"pop\":\n",
    "        if index == 0:\n",
    "            print(\"Stack is empty\")\n",
    "        else:\n",
    "            stack[0] = 0\n",
    "            for i in range(1,len(stack)):\n",
    "                stack[i-1]=stack[i]\n",
    "            print(stack)\n",
    "            index -= 1\n",
    "    if options == \"exit\":\n",
    "        break"
   ]
  },
  {
   "cell_type": "code",
   "execution_count": null,
   "metadata": {},
   "outputs": [],
   "source": []
  }
 ],
 "metadata": {
  "kernelspec": {
   "display_name": "Python 3",
   "language": "python",
   "name": "python3"
  },
  "language_info": {
   "codemirror_mode": {
    "name": "ipython",
    "version": 3
   },
   "file_extension": ".py",
   "mimetype": "text/x-python",
   "name": "python",
   "nbconvert_exporter": "python",
   "pygments_lexer": "ipython3",
   "version": "3.11.7"
  }
 },
 "nbformat": 4,
 "nbformat_minor": 2
}
