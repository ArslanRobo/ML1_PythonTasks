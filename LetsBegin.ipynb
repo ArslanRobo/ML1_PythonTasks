{
 "cells": [
  {
   "cell_type": "code",
   "execution_count": 39,
   "metadata": {},
   "outputs": [
    {
     "name": "stdout",
     "output_type": "stream",
     "text": [
      "2002,2009,2016,2023,2030,2037,2044,2051,2058,2065,2072,2079,2086,2093,2100,2107,2114,2121,2128,2135,2142,2149,2156,2163,2170,2177,2184,2191,2198,2205,2212,2219,2226,2233,2240,2247,2254,2261,2268,2275,2282,2289,2296,2303,2310,2317,2324,2331,2338,2345,2352,2359,2366,2373,2380,2387,2394,2401,2408,2415,2422,2429,2436,2443,2450,2457,2464,2471,2478,2485,2492,2499,2506,2513,2520,2527,2534,2541,2548,2555,2562,2569,2576,2583,2590,2597,2604,2611,2618,2625,2632,2639,2646,2653,2660,2667,2674,2681,2688,2695,2702,2709,2716,2723,2730,2737,2744,2751,2758,2765,2772,2779,2786,2793,2800,2807,2814,2821,2828,2835,2842,2849,2856,2863,2870,2877,2884,2891,2898,2905,2912,2919,2926,2933,2940,2947,2954,2961,2968,2975,2982,2989,2996,3003,3010,3017,3024,3031,3038,3045,3052,3059,3066,3073,3080,3087,3094,3101,3108,3115,3122,3129,3136,3143,3150,3157,3164,3171,3178,3185,3192,3199,"
     ]
    }
   ],
   "source": [
    "# Question1 \n",
    "for i in range(2000,3201):\n",
    "    if (i%7==0) and ~(i%5==0):\n",
    "        print(i,end=',')"
   ]
  },
  {
   "cell_type": "code",
   "execution_count": 19,
   "metadata": {},
   "outputs": [
    {
     "name": "stdout",
     "output_type": "stream",
     "text": [
      "Factorial : 40320\n"
     ]
    }
   ],
   "source": [
    "# Question2\n",
    "x = int(input(\"Enter the number you want factorial for :\"))\n",
    "p = 1\n",
    "for i in range(1,x+1):\n",
    "    p *= i\n",
    "print(f\"Factorial : {p}\")"
   ]
  },
  {
   "cell_type": "code",
   "execution_count": 21,
   "metadata": {},
   "outputs": [
    {
     "name": "stdout",
     "output_type": "stream",
     "text": [
      "{1: 1, 2: 4, 3: 9, 4: 16, 5: 25, 6: 36, 7: 49, 8: 64}\n"
     ]
    }
   ],
   "source": [
    "# Question3\n",
    "d={}\n",
    "x = int(input(\"Enter Number :\"))\n",
    "for i in range(1,x+1):\n",
    "    d[i] = i*i\n",
    "print(d)\n"
   ]
  },
  {
   "cell_type": "code",
   "execution_count": null,
   "metadata": {},
   "outputs": [
    {
     "name": "stdout",
     "output_type": "stream",
     "text": [
      "['34', '67', '55', '33', '12', '98']\n",
      "('34', '67', '55', '33', '12', '98')\n"
     ]
    }
   ],
   "source": [
    "# Question4\n",
    "x = input(\"Enter Comma separated Number : \")\n",
    "l = x.split(\",\")\n",
    "t = tuple(l)\n",
    "print(f\"{l}\\n{t}\")\n"
   ]
  },
  {
   "cell_type": "code",
   "execution_count": null,
   "metadata": {},
   "outputs": [
    {
     "name": "stdout",
     "output_type": "stream",
     "text": [
      "SEEMS PERFECT TO ME HEHE\n"
     ]
    }
   ],
   "source": [
    "# Question5\n",
    "class StringClass:\n",
    "    def __init__(self):\n",
    "        self.string = \"\"\n",
    "    def getString(self):\n",
    "        self.string = input(\"Enter a string: \")\n",
    "    def printString(self):\n",
    "        print(self.string.upper())\n",
    "\n",
    "def testStringClass():\n",
    "    my_string_obj = StringClass()\n",
    "    my_string_obj.getString()\n",
    "    my_string_obj.printString()\n",
    "\n",
    "testStringClass()\n"
   ]
  },
  {
   "cell_type": "code",
   "execution_count": 32,
   "metadata": {},
   "outputs": [
    {
     "name": "stdout",
     "output_type": "stream",
     "text": [
      "18,22,24\n"
     ]
    }
   ],
   "source": [
    "# Question 6 \n",
    "import math\n",
    "C, H = 50,30\n",
    "x = input(\"Enter Comma separated Values :\")\n",
    "D = x.split(\",\")\n",
    "for i in D:\n",
    "    p = round(math.sqrt((2*C*int(i))/H))\n",
    "    if i==D[-1]:\n",
    "        print(p)\n",
    "    else:\n",
    "        print(p,end=\",\")\n"
   ]
  },
  {
   "cell_type": "code",
   "execution_count": 52,
   "metadata": {},
   "outputs": [
    {
     "name": "stdout",
     "output_type": "stream",
     "text": [
      "[[0, 0, 0, 0, 0], [0, 1, 2, 3, 4], [0, 2, 4, 6, 8]]\n"
     ]
    }
   ],
   "source": [
    "# Question 7\n",
    "x=int(x);y=int(y)\n",
    "def twoD_array(X, Y):\n",
    "    return [[i * j for j in range(Y)] for i in range(X)]\n",
    "x,y = input(\"Enter row and column separated by comma:\").split(',')\n",
    "x=int(x);y=int(y)\n",
    "array = twoD_array(x, y)\n",
    "print(array)"
   ]
  },
  {
   "cell_type": "code",
   "execution_count": 55,
   "metadata": {},
   "outputs": [
    {
     "name": "stdout",
     "output_type": "stream",
     "text": [
      "['bag', 'hello', 'without', 'world']\n"
     ]
    }
   ],
   "source": [
    "# Question 8\n",
    "def arrangewords(x):\n",
    "    print(sorted(x))\n",
    "\n",
    "x = input(\"Enter the alphabet separated by commas :\").split(',')\n",
    "arrangewords(x)"
   ]
  },
  {
   "cell_type": "code",
   "execution_count": 68,
   "metadata": {},
   "outputs": [
    {
     "name": "stdout",
     "output_type": "stream",
     "text": [
      "HELLO WORLD \n",
      "\n",
      " PRACTICE MAKES PERFECT\n",
      "\n"
     ]
    }
   ],
   "source": [
    "# Question 9\n",
    "def Capitalize(word):\n",
    "        y = [i.upper() for i in x]\n",
    "        return y\n",
    "x = input(\"Enter words in next lines:\").split(\"\\n\")\n",
    "y= Capitalize(x)\n",
    "for i in Capitalize(x):\n",
    "    print(f\"{i}\\n\")"
   ]
  },
  {
   "cell_type": "code",
   "execution_count": 71,
   "metadata": {},
   "outputs": [
    {
     "name": "stdout",
     "output_type": "stream",
     "text": [
      "['again', 'and', 'hello', 'makes', 'perfect', 'practice', 'world']\n"
     ]
    }
   ],
   "source": [
    "# Question 10\n",
    "def removeduplicate(x):\n",
    "    x = set(x)\n",
    "    y = sorted(x)\n",
    "    print(y)\n",
    "\n",
    "x = input(\" Enter :\").split(\" \")\n",
    "removeduplicate(x)\n"
   ]
  },
  {
   "cell_type": "code",
   "execution_count": 76,
   "metadata": {},
   "outputs": [
    {
     "name": "stdout",
     "output_type": "stream",
     "text": [
      "['1010']\n"
     ]
    }
   ],
   "source": [
    "# Question 11\n",
    "x = input(\" Enter :\").split(\",\")\n",
    "x = [i for i in x if int(i,2)%5==0]\n",
    "print(x)"
   ]
  },
  {
   "cell_type": "code",
   "execution_count": 83,
   "metadata": {},
   "outputs": [
    {
     "name": "stdout",
     "output_type": "stream",
     "text": [
      "2000,2002,2004,2006,2008,2020,2022,2024,2026,2028,2040,2042,2044,2046,2048,2060,2062,2064,2066,2068,2080,2082,2084,2086,2088,2200,2202,2204,2206,2208,2220,2222,2224,2226,2228,2240,2242,2244,2246,2248,2260,2262,2264,2266,2268,2280,2282,2284,2286,2288,2400,2402,2404,2406,2408,2420,2422,2424,2426,2428,2440,2442,2444,2446,2448,2460,2462,2464,2466,2468,2480,2482,2484,2486,2488,2600,2602,2604,2606,2608,2620,2622,2624,2626,2628,2640,2642,2644,2646,2648,2660,2662,2664,2666,2668,2680,2682,2684,2686,2688,2800,2802,2804,2806,2808,2820,2822,2824,2826,2828,2840,2842,2844,2846,2848,2860,2862,2864,2866,2868,2880,2882,2884,2886,2888,"
     ]
    }
   ],
   "source": [
    "# Question 12\n",
    "for i in range(1000,3001):\n",
    "    p = True\n",
    "    for n in str(i):\n",
    "        if int(n)%2 != 0:\n",
    "            p = False\n",
    "    if (p==True):\n",
    "        print(i,end=\",\")\n",
    "    else:\n",
    "        pass"
   ]
  },
  {
   "cell_type": "code",
   "execution_count": 85,
   "metadata": {},
   "outputs": [
    {
     "name": "stdout",
     "output_type": "stream",
     "text": [
      "No of letter:10\n",
      "No of numbers:3\n"
     ]
    }
   ],
   "source": [
    "# Question 13\n",
    "def checkcount(x):\n",
    "    letters=0\n",
    "    number=0\n",
    "    for i in x:\n",
    "        if i.isalpha():\n",
    "            letters+=1\n",
    "        elif i.isdigit():\n",
    "            number+=1\n",
    "    print(f\"No of letter:{letters}\\nNo of numbers:{number}\")\n",
    "\n",
    "x = input(\"Enter :\")\n",
    "checkcount(x)\n"
   ]
  },
  {
   "cell_type": "code",
   "execution_count": 86,
   "metadata": {},
   "outputs": [
    {
     "name": "stdout",
     "output_type": "stream",
     "text": [
      "UPPER:1\n",
      "LOWERs:9\n"
     ]
    }
   ],
   "source": [
    "# Question 14\n",
    "def checkcount(x):\n",
    "    UPPER=0\n",
    "    LOWER=0\n",
    "    for i in x:\n",
    "        if i.isalpha() and i.isupper():\n",
    "            UPPER+=1\n",
    "        elif i.isalpha() and i.islower():\n",
    "            LOWER+=1\n",
    "    print(f\"UPPER:{UPPER}\\nLOWERs:{LOWER}\")\n",
    "\n",
    "x = input(\"Enter :\")\n",
    "checkcount(x)"
   ]
  },
  {
   "cell_type": "code",
   "execution_count": 93,
   "metadata": {},
   "outputs": [
    {
     "name": "stdout",
     "output_type": "stream",
     "text": [
      "11106\n"
     ]
    }
   ],
   "source": [
    "# Question 15\n",
    "def counta(x,v):\n",
    "    x = x.replace(\"a\",f\"{v}\").split(\"+\")\n",
    "    y = [int(i) for i in x ]\n",
    "    print(sum(y))\n",
    "\n",
    "Value=9\n",
    "x = input(\"Enter :\")\n",
    "counta(x,Value)\n"
   ]
  },
  {
   "cell_type": "code",
   "execution_count": 100,
   "metadata": {},
   "outputs": [
    {
     "name": "stdout",
     "output_type": "stream",
     "text": [
      "[1, 9, 25, 49, 81]\n"
     ]
    }
   ],
   "source": [
    "# Question 16\n",
    "x = input(\"Enter :\").split(\",\")\n",
    "y = [int(i)**2 for i in x if int(i)%2!= 0]\n",
    "print(y)"
   ]
  },
  {
   "cell_type": "code",
   "execution_count": null,
   "metadata": {},
   "outputs": [],
   "source": []
  }
 ],
 "metadata": {
  "kernelspec": {
   "display_name": "Python 3",
   "language": "python",
   "name": "python3"
  },
  "language_info": {
   "codemirror_mode": {
    "name": "ipython",
    "version": 3
   },
   "file_extension": ".py",
   "mimetype": "text/x-python",
   "name": "python",
   "nbconvert_exporter": "python",
   "pygments_lexer": "ipython3",
   "version": "3.11.7"
  }
 },
 "nbformat": 4,
 "nbformat_minor": 2
}
