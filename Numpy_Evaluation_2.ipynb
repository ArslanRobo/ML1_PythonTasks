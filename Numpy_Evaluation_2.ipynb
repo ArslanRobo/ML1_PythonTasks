{
 "cells": [
  {
   "cell_type": "markdown",
   "id": "7ec98f23",
   "metadata": {},
   "source": [
    "### Questions 1\n",
    "\n",
    "Create a matrix of 5x5 with random integers, after that swap its first and last rows."
   ]
  },
  {
   "cell_type": "code",
   "execution_count": 55,
   "id": "fbab7daa",
   "metadata": {},
   "outputs": [
    {
     "name": "stdout",
     "output_type": "stream",
     "text": [
      "[[2 8 8 2 4]\n",
      " [6 6 8 5 9]\n",
      " [5 1 4 5 2]\n",
      " [4 6 2 3 2]\n",
      " [8 8 5 7 2]]\n",
      "[[8 8 5 7 2]\n",
      " [6 6 8 5 9]\n",
      " [5 1 4 5 2]\n",
      " [4 6 2 3 2]\n",
      " [2 8 8 2 4]]\n"
     ]
    }
   ],
   "source": [
    "import numpy as np\n",
    "import copy\n",
    "\n",
    "def swapping(x):\n",
    "    x1,x5=copy.deepcopy(x[0]),copy.deepcopy(x[4])\n",
    "    x[4]=x1\n",
    "    x[0]=x5\n",
    "    return x\n",
    "\n",
    "x = np.random.randint(1,10,(5,5))\n",
    "print(x)\n",
    "print(swapping(x))"
   ]
  },
  {
   "cell_type": "markdown",
   "id": "804d6649",
   "metadata": {},
   "source": [
    "### Question 2\n",
    "\n",
    "Create a 2D array, remove all rows that contain at least one zero."
   ]
  },
  {
   "cell_type": "code",
   "execution_count": 59,
   "id": "26e7b7e4",
   "metadata": {},
   "outputs": [
    {
     "name": "stdout",
     "output_type": "stream",
     "text": [
      "[[-5 -1 -1  4 -3]\n",
      " [-1 -3 -5 -5 -4]\n",
      " [ 2  2 -2 -5  4]\n",
      " [ 0 -1  0 -1  2]\n",
      " [ 0 -3  4  1  3]]\n",
      "[[-5 -1 -1  4 -3]\n",
      " [-1 -3 -5 -5 -4]\n",
      " [ 2  2 -2 -5  4]]\n"
     ]
    }
   ],
   "source": [
    "def removezero(x):\n",
    "    y = np.array([row for row in x if 0 not in row])\n",
    "    return y\n",
    "    \n",
    "x = np.random.randint(-5,5,(5,5))\n",
    "print(x)\n",
    "print(removezero(x))\n",
    "     "
   ]
  },
  {
   "cell_type": "markdown",
   "id": "2eaedae6",
   "metadata": {},
   "source": [
    "### Question 3\n",
    "\n",
    "Write a NumPy program to find the real and imaginary parts of an array of complex numbers.<br>\n",
    "Original array [ 1.00000000+0.j 0.70710678+0.70710678j]"
   ]
  },
  {
   "cell_type": "code",
   "execution_count": 74,
   "id": "5e2d4526",
   "metadata": {},
   "outputs": [
    {
     "name": "stdout",
     "output_type": "stream",
     "text": [
      "[1.         0.70710678]\n",
      "[0.         0.70710678]\n"
     ]
    }
   ],
   "source": [
    "def realpart(x):\n",
    "    real = []\n",
    "    for i in x:\n",
    "        s = str(i).split('+')\n",
    "        real.append(float(s[0].replace(\"(\",\"\")))\n",
    "    return np.array(real)\n",
    "def imaginarypart(x):\n",
    "    imaginary = []\n",
    "    for i in x:\n",
    "        s = str(i).split('+')\n",
    "        imaginary.append(float(s[1].replace(\"j)\",\"\")))\n",
    "    return np.array(imaginary)\n",
    "\n",
    "x = np.array([1.00000000+0.j ,0.70710678+0.70710678j])\n",
    "print(realpart(x))\n",
    "print(imaginarypart(x))\n",
    "\n"
   ]
  },
  {
   "cell_type": "markdown",
   "id": "5d22a191",
   "metadata": {},
   "source": [
    "### Question 4\n",
    "\n",
    "Write a NumPy program to remove the duplicate elements of an array.<br>\n",
    "Original array:\n",
    "[10 10 20 20 30 30]\n"
   ]
  },
  {
   "cell_type": "code",
   "execution_count": 75,
   "id": "39a6deaf",
   "metadata": {},
   "outputs": [
    {
     "name": "stdout",
     "output_type": "stream",
     "text": [
      "[10, 20, 30]\n"
     ]
    }
   ],
   "source": [
    "def unique(x):\n",
    "    y = []\n",
    "    for i in x:\n",
    "        if i not in y:\n",
    "            y.append(i)\n",
    "    return y\n",
    "\n",
    "x = np.array([10, 10, 20, 20, 30, 30])\n",
    "print(unique(x))\n"
   ]
  },
  {
   "cell_type": "markdown",
   "id": "80f3538a",
   "metadata": {},
   "source": [
    "### Question 5\n",
    "\n",
    "Write a NumPy program to create a 3x3x3 array with random values."
   ]
  },
  {
   "cell_type": "code",
   "execution_count": 36,
   "id": "462e67c5",
   "metadata": {},
   "outputs": [
    {
     "name": "stdout",
     "output_type": "stream",
     "text": [
      "[[[0.89301369 0.72036118 0.02603921]\n",
      "  [0.06924948 0.87722974 0.20114354]\n",
      "  [0.7760936  0.10607563 0.80291036]]\n",
      "\n",
      " [[0.78452371 0.02844093 0.62194927]\n",
      "  [0.05131911 0.36675713 0.84458089]\n",
      "  [0.98733866 0.75822756 0.458203  ]]\n",
      "\n",
      " [[0.25948158 0.74858936 0.72287592]\n",
      "  [0.68625567 0.35632732 0.13344518]\n",
      "  [0.18552922 0.00398124 0.50216006]]]\n"
     ]
    }
   ],
   "source": [
    "x = np.random.random((3,3,3))\n",
    "print(x)"
   ]
  },
  {
   "cell_type": "markdown",
   "id": "abd66406",
   "metadata": {},
   "source": [
    "### Question 6\n",
    "\n",
    "Write a NumPy program to create a random vector of size 10 and sort it.\n",
    "<b>Note:<\\b> Do not use builtin sorting function"
   ]
  },
  {
   "cell_type": "code",
   "execution_count": 86,
   "id": "9282c068",
   "metadata": {},
   "outputs": [
    {
     "name": "stdout",
     "output_type": "stream",
     "text": [
      "[ 8 19  4 17 15 15  6 19 14 15]\n",
      "[ 4  6  8 14 15 15 15 17 19 19]\n"
     ]
    }
   ],
   "source": [
    "def sorting(x):\n",
    "    print(x)\n",
    "    for i in range(0,len(x)):\n",
    "        for j in range(0,len(x)):\n",
    "            if x[i]<x[j]:\n",
    "                yo=x[j]\n",
    "                x[j]=x[i]\n",
    "                x[i]=yo\n",
    "    print(x)\n",
    "\n",
    "x=np.random.randint(20,size=(10))\n",
    "sorting(x)"
   ]
  },
  {
   "cell_type": "markdown",
   "id": "e0c1e8bb",
   "metadata": {},
   "source": [
    "### Question 7\n",
    "\n",
    "Write a NumPy program to check two random arrays are equal or not."
   ]
  },
  {
   "cell_type": "code",
   "execution_count": 78,
   "id": "e9c571cc",
   "metadata": {},
   "outputs": [
    {
     "name": "stdout",
     "output_type": "stream",
     "text": [
      "[0.45571721 0.15262845 0.42835021 0.20483084 0.36143479 0.14470571\n",
      " 0.51228317 0.55314714 0.96434157 0.33251256]\n",
      "[0.17896018 0.43736999 0.38695773 0.75793955 0.09460095 0.06675258\n",
      " 0.75416208 0.60016808 0.347761   0.56309565]\n",
      "Equal = False\n"
     ]
    }
   ],
   "source": [
    "def equalitycheck(x,y):\n",
    "    n = len(x)\n",
    "    result = True\n",
    "    for i in range(n):\n",
    "        if (x[i]!=y[i]):\n",
    "            result = False\n",
    "            break\n",
    "    return result\n",
    "        \n",
    "x = np.random.random(10)\n",
    "y = np.random.random(10)\n",
    "print(x)\n",
    "print(y)\n",
    "print(f\"Equal = {equalitycheck(x,y)}\")"
   ]
  },
  {
   "cell_type": "markdown",
   "id": "234405fe",
   "metadata": {},
   "source": [
    "### Question 8 \n",
    "\n",
    "Write a NumPy program to sort a given array of shape 2 along the first axis, last axis and on flattened array.<br>\n",
    "\n",
    "Original array:<br>\n",
    "[[10 40]<br>\n",
    "[30 20]]"
   ]
  },
  {
   "cell_type": "code",
   "execution_count": 87,
   "id": "1b349b99",
   "metadata": {},
   "outputs": [
    {
     "name": "stdout",
     "output_type": "stream",
     "text": [
      "[[10 20]\n",
      " [30 40]]\n"
     ]
    }
   ],
   "source": [
    "x = np.array([[10,40],[30,20]])\n",
    "x = np.array(sorted(x.flatten())).reshape(2,2)\n",
    "print(x)\n"
   ]
  },
  {
   "cell_type": "markdown",
   "id": "2467ff08",
   "metadata": {},
   "source": [
    "### Question 9\n",
    "\n",
    "Write a NumPy program to get the floor, ceiling and truncated values of the elements of a numpy array.<br>\n",
    "\n",
    "Original array:<br>\n",
    "[-1.6 -1.5 -0.3 0.1 1.4 1.8 2. ]"
   ]
  },
  {
   "cell_type": "code",
   "execution_count": 82,
   "id": "8fa2a543",
   "metadata": {},
   "outputs": [
    {
     "name": "stdout",
     "output_type": "stream",
     "text": [
      "[-2  1 -1  0  1  1  2]\n",
      "[-1  2  0  1  2  2  3]\n",
      "[-1  1  0  0  1  1  2]\n"
     ]
    }
   ],
   "source": [
    "def floor(x):\n",
    "    fl = []\n",
    "    for i in x:\n",
    "        if i >= 0:\n",
    "            fl.append(int(i))\n",
    "        else:\n",
    "            fl.append(int(i) - 1)\n",
    "    return np.array(fl)\n",
    "def ceiling(x):\n",
    "    cl = []\n",
    "    for i in x:\n",
    "        if i >= 0:\n",
    "            cl.append(int(i) + 1)\n",
    "        else:\n",
    "            cl.append(int(i))\n",
    "    return np.array(cl)\n",
    "def truncated(x):\n",
    "    tr = [int(i) for i in x]\n",
    "    return np.array(tr)\n",
    "\n",
    "x = np.array([-1.6,1.5,-0.3,0.1,1.4,1.8,2. ])\n",
    "print(f\"{floor(x)}\\n{ceiling(x)}\\n{truncated(x)}\")"
   ]
  },
  {
   "cell_type": "markdown",
   "id": "9434026c",
   "metadata": {},
   "source": [
    "### Questions 10\n",
    "\n",
    "Write a NumPy program to display all the dates for the month of March, 2017"
   ]
  },
  {
   "cell_type": "code",
   "execution_count": 2,
   "id": "67332471",
   "metadata": {},
   "outputs": [
    {
     "name": "stdout",
     "output_type": "stream",
     "text": [
      "['2017-03-01' '2017-03-02' '2017-03-03' '2017-03-04' '2017-03-05'\n",
      " '2017-03-06' '2017-03-07' '2017-03-08' '2017-03-09' '2017-03-10'\n",
      " '2017-03-11' '2017-03-12' '2017-03-13' '2017-03-14' '2017-03-15'\n",
      " '2017-03-16' '2017-03-17' '2017-03-18' '2017-03-19' '2017-03-20'\n",
      " '2017-03-21' '2017-03-22' '2017-03-23' '2017-03-24' '2017-03-25'\n",
      " '2017-03-26' '2017-03-27' '2017-03-28' '2017-03-29' '2017-03-30'\n",
      " '2017-03-31']\n"
     ]
    }
   ],
   "source": [
    "start_date = np.datetime64('2017-03-01')\n",
    "end_date = np.datetime64('2017-04-01')\n",
    "dates = np.arange(start_date, end_date, dtype='datetime64[D]')\n",
    "\n",
    "print(dates)\n"
   ]
  },
  {
   "cell_type": "markdown",
   "id": "34eb3ebf",
   "metadata": {},
   "source": [
    "### Question 11\n",
    "\n",
    "Write a NumPy program to create 24 python datetime.datetime objects (single object for every hour), and then put it in a numpy array."
   ]
  },
  {
   "cell_type": "code",
   "execution_count": 1,
   "id": "705b235f",
   "metadata": {},
   "outputs": [
    {
     "name": "stdout",
     "output_type": "stream",
     "text": [
      "[datetime.datetime(1970, 1, 4, 1, 2, 48), datetime.datetime(1970, 1, 4, 1, 2, 49), datetime.datetime(1970, 1, 4, 1, 2, 50), datetime.datetime(1970, 1, 4, 1, 2, 51), datetime.datetime(1970, 1, 4, 1, 2, 52), datetime.datetime(1970, 1, 4, 1, 2, 53), datetime.datetime(1970, 1, 4, 1, 2, 54), datetime.datetime(1970, 1, 4, 1, 2, 55), datetime.datetime(1970, 1, 4, 1, 2, 56), datetime.datetime(1970, 1, 4, 1, 2, 57), datetime.datetime(1970, 1, 4, 1, 2, 58), datetime.datetime(1970, 1, 4, 1, 2, 59), datetime.datetime(1970, 1, 4, 1, 3), datetime.datetime(1970, 1, 4, 1, 3, 1), datetime.datetime(1970, 1, 4, 1, 3, 2), datetime.datetime(1970, 1, 4, 1, 3, 3), datetime.datetime(1970, 1, 4, 1, 3, 4), datetime.datetime(1970, 1, 4, 1, 3, 5), datetime.datetime(1970, 1, 4, 1, 3, 6), datetime.datetime(1970, 1, 4, 1, 3, 7), datetime.datetime(1970, 1, 4, 1, 3, 8), datetime.datetime(1970, 1, 4, 1, 3, 9), datetime.datetime(1970, 1, 4, 1, 3, 10), datetime.datetime(1970, 1, 4, 1, 3, 11)]\n"
     ]
    }
   ],
   "source": [
    "import numpy as np\n",
    "import datetime\n",
    "\n",
    "start_datetime = np.datetime64('2000-01-01T00:00')\n",
    "end_datetime = np.datetime64('2000-01-02T00:00')\n",
    "\n",
    "datetime_objects = np.arange(start_datetime, end_datetime, dtype='datetime64[h]')\n",
    "\n",
    "formatted_output = [datetime.datetime.utcfromtimestamp(dt.astype(int)) for dt in datetime_objects]\n",
    "\n",
    "print(formatted_output)"
   ]
  },
  {
   "cell_type": "markdown",
   "id": "e34c59d5",
   "metadata": {},
   "source": [
    "### Question 12\n",
    "\n",
    "Write a NumPy program to concatenate element-wise two arrays of string.<br>\n",
    "<b>Example <\\b>\n",
    "Array1:<br>\n",
    "['Python' 'PHP']<br>\n",
    "Array2:<br>\n",
    "[' Java' ' C++']<br>\n",
    "new array:<br>\n",
    "['Python Java' 'PHP C++']<br>"
   ]
  },
  {
   "cell_type": "code",
   "execution_count": 9,
   "id": "cd6b480c",
   "metadata": {},
   "outputs": [
    {
     "name": "stdout",
     "output_type": "stream",
     "text": [
      "['Python Java' 'PHP C++']\n"
     ]
    }
   ],
   "source": [
    "def concat(x,y):\n",
    "    a = []\n",
    "    n = len(x)\n",
    "    for i in range(n):\n",
    "        b = f\"{x[i]} {y[i]}\"\n",
    "        a.append(b)\n",
    "    print(np.array(a))\n",
    "\n",
    "x = np.array(['Python','PHP'])\n",
    "y = np.array(['Java','C++'])\n",
    "concat(x,y)"
   ]
  },
  {
   "cell_type": "code",
   "execution_count": null,
   "id": "fc019515",
   "metadata": {},
   "outputs": [],
   "source": []
  }
 ],
 "metadata": {
  "kernelspec": {
   "display_name": "Python 3 (ipykernel)",
   "language": "python",
   "name": "python3"
  },
  "language_info": {
   "codemirror_mode": {
    "name": "ipython",
    "version": 3
   },
   "file_extension": ".py",
   "mimetype": "text/x-python",
   "name": "python",
   "nbconvert_exporter": "python",
   "pygments_lexer": "ipython3",
   "version": "3.11.7"
  }
 },
 "nbformat": 4,
 "nbformat_minor": 5
}
